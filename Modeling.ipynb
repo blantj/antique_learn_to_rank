{
 "cells": [
  {
   "cell_type": "markdown",
   "metadata": {},
   "source": [
    "# Import Libraries"
   ]
  },
  {
   "cell_type": "code",
   "execution_count": 15,
   "metadata": {},
   "outputs": [],
   "source": [
    "import requests"
   ]
  },
  {
   "cell_type": "markdown",
   "metadata": {},
   "source": [
    "# Obtain Data"
   ]
  },
  {
   "cell_type": "markdown",
   "metadata": {},
   "source": [
    "Define save_file function to download data files with request"
   ]
  },
  {
   "cell_type": "code",
   "execution_count": 18,
   "metadata": {},
   "outputs": [],
   "source": [
    "def save_file (url, path):\n",
    "    r = requests.get(url, allow_redirects=True)\n",
    "    open(path, 'wb').write(r.content)"
   ]
  },
  {
   "cell_type": "markdown",
   "metadata": {},
   "source": [
    "Use save_file function to download data files"
   ]
  },
  {
   "cell_type": "code",
   "execution_count": 31,
   "metadata": {},
   "outputs": [
    {
     "name": "stdout",
     "output_type": "stream",
     "text": [
      "1 files finished\n",
      "2 files finished\n",
      "3 files finished\n"
     ]
    }
   ],
   "source": [
    "urls = ['http://ciir.cs.umass.edu/downloads/Antique/tf-ranking/vocab.txt', \n",
    "        'http://ciir.cs.umass.edu/downloads/Antique/tf-ranking/ELWC/train.tfrecords',\n",
    "        'http://ciir.cs.umass.edu/downloads/Antique/tf-ranking//ELWC/test.tfrecords']\n",
    "paths = []\n",
    "for url in urls:\n",
    "    paths.append('Data/' + url.split('/')[-1])\n",
    "    \n",
    "for num in range(0,3):\n",
    "    url = urls[num]\n",
    "    path = paths[num]\n",
    "    save_file (url, path)\n",
    "    print(num+1, 'files finished')"
   ]
  },
  {
   "cell_type": "code",
   "execution_count": null,
   "metadata": {},
   "outputs": [],
   "source": []
  }
 ],
 "metadata": {
  "kernelspec": {
   "display_name": "Python 3",
   "language": "python",
   "name": "python3"
  },
  "language_info": {
   "codemirror_mode": {
    "name": "ipython",
    "version": 3
   },
   "file_extension": ".py",
   "mimetype": "text/x-python",
   "name": "python",
   "nbconvert_exporter": "python",
   "pygments_lexer": "ipython3",
   "version": "3.7.6"
  }
 },
 "nbformat": 4,
 "nbformat_minor": 4
}
